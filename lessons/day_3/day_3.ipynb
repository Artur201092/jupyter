{
 "cells": [
  {
   "cell_type": "code",
   "execution_count": 1,
   "metadata": {},
   "outputs": [
    {
     "data": {
      "text/plain": [
       "3"
      ]
     },
     "execution_count": 1,
     "metadata": {},
     "output_type": "execute_result"
    }
   ],
   "source": [
    "a = 3 \n",
    "b = a\n",
    "b"
   ]
  },
  {
   "cell_type": "code",
   "execution_count": 2,
   "metadata": {},
   "outputs": [
    {
     "data": {
      "text/plain": [
       "5"
      ]
     },
     "execution_count": 2,
     "metadata": {},
     "output_type": "execute_result"
    }
   ],
   "source": [
    "a = 3\n",
    "b = a\n",
    "a = a + 2\n",
    "a"
   ]
  },
  {
   "cell_type": "code",
   "execution_count": 3,
   "metadata": {},
   "outputs": [
    {
     "data": {
      "text/plain": [
       "[1, 2, 3, 4]"
      ]
     },
     "execution_count": 3,
     "metadata": {},
     "output_type": "execute_result"
    }
   ],
   "source": [
    "l1 = [1,2,3,4]\n",
    "l2 = l1\n",
    "l1 = 15\n",
    "l2"
   ]
  },
  {
   "cell_type": "code",
   "execution_count": 4,
   "metadata": {},
   "outputs": [
    {
     "data": {
      "text/plain": [
       "[55, 2, 3, 4]"
      ]
     },
     "execution_count": 4,
     "metadata": {},
     "output_type": "execute_result"
    }
   ],
   "source": [
    "l1 = [1,2,3,4]\n",
    "l2 = l1\n",
    "l1[0] = 55\n",
    "l2"
   ]
  },
  {
   "cell_type": "code",
   "execution_count": 5,
   "metadata": {},
   "outputs": [
    {
     "data": {
      "text/plain": [
       "[1, 2, 3, 4, 5]"
      ]
     },
     "execution_count": 5,
     "metadata": {},
     "output_type": "execute_result"
    }
   ],
   "source": [
    "l1 = [1,2,3,4,5]\n",
    "l2 = l1[:]\n",
    "l1[0] = 55\n",
    "l2"
   ]
  },
  {
   "cell_type": "code",
   "execution_count": 6,
   "metadata": {},
   "outputs": [
    {
     "data": {
      "text/plain": [
       "[1, 2]"
      ]
     },
     "execution_count": 6,
     "metadata": {},
     "output_type": "execute_result"
    }
   ],
   "source": [
    "import copy\n",
    "l3 = [1,2]\n",
    "l4 = copy.copy(l3)\n",
    "# l4 = copy.deepcopy(l3)\n",
    "l4"
   ]
  },
  {
   "cell_type": "code",
   "execution_count": 7,
   "metadata": {},
   "outputs": [
    {
     "data": {
      "text/plain": [
       "True"
      ]
     },
     "execution_count": 7,
     "metadata": {},
     "output_type": "execute_result"
    }
   ],
   "source": [
    "n = [1,2,3]\n",
    "m = n\n",
    "n is m"
   ]
  },
  {
   "cell_type": "code",
   "execution_count": 8,
   "metadata": {},
   "outputs": [
    {
     "data": {
      "text/plain": [
       "True"
      ]
     },
     "execution_count": 8,
     "metadata": {},
     "output_type": "execute_result"
    }
   ],
   "source": [
    "n == m"
   ]
  },
  {
   "cell_type": "code",
   "execution_count": 9,
   "metadata": {},
   "outputs": [],
   "source": [
    "n = [1,2,3]\n",
    "m = [1,2,3]\n",
    "n is m\n",
    "h = 1"
   ]
  },
  {
   "cell_type": "code",
   "execution_count": 10,
   "metadata": {},
   "outputs": [
    {
     "data": {
      "text/plain": [
       "3034"
      ]
     },
     "execution_count": 10,
     "metadata": {},
     "output_type": "execute_result"
    }
   ],
   "source": [
    "import sys\n",
    "sys.getrefcount(1)"
   ]
  },
  {
   "cell_type": "code",
   "execution_count": 11,
   "metadata": {},
   "outputs": [
    {
     "data": {
      "text/plain": [
       "['qwerty']"
      ]
     },
     "execution_count": 11,
     "metadata": {},
     "output_type": "execute_result"
    }
   ],
   "source": [
    "a = ['spam']\n",
    "b = a\n",
    "b[0] = 'qwerty'\n",
    "a"
   ]
  },
  {
   "cell_type": "code",
   "execution_count": 12,
   "metadata": {},
   "outputs": [
    {
     "data": {
      "text/plain": [
       "['spam']"
      ]
     },
     "execution_count": 12,
     "metadata": {},
     "output_type": "execute_result"
    }
   ],
   "source": [
    "a = ['spam']\n",
    "b = a[:]\n",
    "b[0] = \"qwerty\"\n",
    "a"
   ]
  },
  {
   "cell_type": "markdown",
   "metadata": {},
   "source": [
    "# Strings"
   ]
  },
  {
   "cell_type": "code",
   "execution_count": 13,
   "metadata": {},
   "outputs": [
    {
     "data": {
      "text/plain": [
       "'Meaning of life'"
      ]
     },
     "execution_count": 13,
     "metadata": {},
     "output_type": "execute_result"
    }
   ],
   "source": [
    "title = \"Meaning \" 'of' \" life\"\n",
    "title"
   ]
  },
  {
   "cell_type": "code",
   "execution_count": 14,
   "metadata": {},
   "outputs": [
    {
     "data": {
      "text/plain": [
       "('meaning', 'of', 'life')"
      ]
     },
     "execution_count": 14,
     "metadata": {},
     "output_type": "execute_result"
    }
   ],
   "source": [
    "title = \"meaning\",'of','life'\n",
    "title"
   ]
  },
  {
   "cell_type": "code",
   "execution_count": 15,
   "metadata": {},
   "outputs": [
    {
     "data": {
      "text/plain": [
       "'asd\"'"
      ]
     },
     "execution_count": 15,
     "metadata": {},
     "output_type": "execute_result"
    }
   ],
   "source": [
    "\"asd\\\"\""
   ]
  },
  {
   "cell_type": "code",
   "execution_count": 16,
   "metadata": {},
   "outputs": [
    {
     "data": {
      "text/plain": [
       "\"asd'\""
      ]
     },
     "execution_count": 16,
     "metadata": {},
     "output_type": "execute_result"
    }
   ],
   "source": [
    "'asd\\''"
   ]
  },
  {
   "cell_type": "code",
   "execution_count": 17,
   "metadata": {},
   "outputs": [
    {
     "name": "stdout",
     "output_type": "stream",
     "text": [
      "a\n",
      "b\tc\n"
     ]
    }
   ],
   "source": [
    "s = 'a\\nb\\tc'\n",
    "print(s)"
   ]
  },
  {
   "cell_type": "code",
   "execution_count": 18,
   "metadata": {},
   "outputs": [
    {
     "name": "stdout",
     "output_type": "stream",
     "text": [
      "q\u000b",
      "werty\n"
     ]
    }
   ],
   "source": [
    "s = \"q\\vwerty\"\n",
    "print(s)"
   ]
  },
  {
   "cell_type": "code",
   "execution_count": 19,
   "metadata": {},
   "outputs": [
    {
     "data": {
      "text/plain": [
       "'a\\x00b\\x00c'"
      ]
     },
     "execution_count": 19,
     "metadata": {},
     "output_type": "execute_result"
    }
   ],
   "source": [
    "s = 'a\\0b\\0c'\n",
    "s"
   ]
  },
  {
   "cell_type": "code",
   "execution_count": 20,
   "metadata": {},
   "outputs": [
    {
     "data": {
      "text/plain": [
       "<_io.TextIOWrapper name='C:\\\\new\\\\text.dat' mode='w' encoding='UTF-8'>"
      ]
     },
     "execution_count": 20,
     "metadata": {},
     "output_type": "execute_result"
    }
   ],
   "source": [
    "# myfile = open('C:\\new\\text.dat', 'w')\n",
    "myfile = open(r'C:\\new\\text.dat', 'w')\n",
    "myfile"
   ]
  },
  {
   "cell_type": "code",
   "execution_count": 21,
   "metadata": {},
   "outputs": [
    {
     "name": "stdout",
     "output_type": "stream",
     "text": [
      "C:\\new\\text.dat\n"
     ]
    }
   ],
   "source": [
    "path = 'C:\\\\new\\\\text.dat'\n",
    "print(path)"
   ]
  },
  {
   "cell_type": "code",
   "execution_count": 22,
   "metadata": {},
   "outputs": [
    {
     "data": {
      "text/plain": [
       "'asbglsdhvjkbhvpehgb,dfb\\nfbj nkjbn kjfbnkjfdg\\ngbnkgjbfj dfg\\nsdbhdfbhjkfbsjhvwe    fjhsddbsdfb\\ndfbdfb\\nbjhb'"
      ]
     },
     "execution_count": 22,
     "metadata": {},
     "output_type": "execute_result"
    }
   ],
   "source": [
    "text = \"\"\"asbglsdhvjkbhvpehgb,dfb\n",
    "... fbj nkjbn kjfbnkjfdg\n",
    "... gbnkgjbfj dfg\n",
    "sdbhdfbhjkfbsjhvwe    fjhsddbsdfb\n",
    "dfbdfb\n",
    "bjhb\"\"\"\n",
    "text"
   ]
  },
  {
   "cell_type": "code",
   "execution_count": 23,
   "metadata": {},
   "outputs": [
    {
     "name": "stdout",
     "output_type": "stream",
     "text": [
      "asbglsdhvjkbhvpehgb,dfb\n",
      "fbj nkjbn kjfbnkjfdg\n",
      "gbnkgjbfj dfg\n",
      "sdbhdfbhjkfbsjhvwe    fjhsddbsdfb\n",
      "dfbdfb\n",
      "bjhb\n"
     ]
    }
   ],
   "source": [
    "print(text)"
   ]
  },
  {
   "cell_type": "code",
   "execution_count": 24,
   "metadata": {},
   "outputs": [
    {
     "data": {
      "text/plain": [
       "6"
      ]
     },
     "execution_count": 24,
     "metadata": {},
     "output_type": "execute_result"
    }
   ],
   "source": [
    "len('asdasd')"
   ]
  },
  {
   "cell_type": "code",
   "execution_count": 25,
   "metadata": {},
   "outputs": [
    {
     "data": {
      "text/plain": [
       "'assqwe'"
      ]
     },
     "execution_count": 25,
     "metadata": {},
     "output_type": "execute_result"
    }
   ],
   "source": [
    "'ass'+'qwe'"
   ]
  },
  {
   "cell_type": "code",
   "execution_count": 26,
   "metadata": {},
   "outputs": [
    {
     "data": {
      "text/plain": [
       "'aaaaaaaaaaaa'"
      ]
     },
     "execution_count": 26,
     "metadata": {},
     "output_type": "execute_result"
    }
   ],
   "source": [
    "\"aaa\"*4"
   ]
  },
  {
   "cell_type": "code",
   "execution_count": 27,
   "metadata": {},
   "outputs": [
    {
     "name": "stdout",
     "output_type": "stream",
     "text": [
      "s t r i n g "
     ]
    }
   ],
   "source": [
    "s = \"string\"\n",
    "for c in s:\n",
    "    print(c, end=\" \")"
   ]
  },
  {
   "cell_type": "code",
   "execution_count": 28,
   "metadata": {},
   "outputs": [
    {
     "data": {
      "text/plain": [
       "True"
      ]
     },
     "execution_count": 28,
     "metadata": {},
     "output_type": "execute_result"
    }
   ],
   "source": [
    "'s' in s"
   ]
  },
  {
   "cell_type": "code",
   "execution_count": 29,
   "metadata": {},
   "outputs": [
    {
     "data": {
      "text/plain": [
       "'olleh'"
      ]
     },
     "execution_count": 29,
     "metadata": {},
     "output_type": "execute_result"
    }
   ],
   "source": [
    "s = 'hello'\n",
    "s[::-1]"
   ]
  },
  {
   "cell_type": "code",
   "execution_count": 30,
   "metadata": {},
   "outputs": [
    {
     "data": {
      "text/plain": [
       "'ll'"
      ]
     },
     "execution_count": 30,
     "metadata": {},
     "output_type": "execute_result"
    }
   ],
   "source": [
    "s[3:1:-1]"
   ]
  },
  {
   "cell_type": "code",
   "execution_count": 31,
   "metadata": {},
   "outputs": [
    {
     "data": {
      "text/plain": [
       "'pa'"
      ]
     },
     "execution_count": 31,
     "metadata": {},
     "output_type": "execute_result"
    }
   ],
   "source": [
    "'spam'[1:3]"
   ]
  },
  {
   "cell_type": "code",
   "execution_count": 32,
   "metadata": {},
   "outputs": [
    {
     "data": {
      "text/plain": [
       "'pa'"
      ]
     },
     "execution_count": 32,
     "metadata": {},
     "output_type": "execute_result"
    }
   ],
   "source": [
    "'spam'[slice(1,3)]"
   ]
  },
  {
   "cell_type": "code",
   "execution_count": 33,
   "metadata": {},
   "outputs": [
    {
     "data": {
      "text/plain": [
       "'maps'"
      ]
     },
     "execution_count": 33,
     "metadata": {},
     "output_type": "execute_result"
    }
   ],
   "source": [
    "'spam'[::-1]"
   ]
  },
  {
   "cell_type": "code",
   "execution_count": 34,
   "metadata": {},
   "outputs": [
    {
     "data": {
      "text/plain": [
       "'maps'"
      ]
     },
     "execution_count": 34,
     "metadata": {},
     "output_type": "execute_result"
    }
   ],
   "source": [
    "'spam'[slice(None,None,-1)]"
   ]
  },
  {
   "cell_type": "code",
   "execution_count": 35,
   "metadata": {},
   "outputs": [
    {
     "data": {
      "text/plain": [
       "\"'spam'\""
      ]
     },
     "execution_count": 35,
     "metadata": {},
     "output_type": "execute_result"
    }
   ],
   "source": [
    "repr('spam')"
   ]
  },
  {
   "cell_type": "code",
   "execution_count": 36,
   "metadata": {},
   "outputs": [
    {
     "data": {
      "text/plain": [
       "13"
      ]
     },
     "execution_count": 36,
     "metadata": {},
     "output_type": "execute_result"
    }
   ],
   "source": [
    "b = '1101'\n",
    "i = 0\n",
    "while b != '':\n",
    "    i = i*2 + (ord(b[0]) - ord('0'))\n",
    "    b = b[1:]\n",
    "    \n",
    "i"
   ]
  },
  {
   "cell_type": "code",
   "execution_count": 37,
   "metadata": {},
   "outputs": [
    {
     "data": {
      "text/plain": [
       "7"
      ]
     },
     "execution_count": 37,
     "metadata": {},
     "output_type": "execute_result"
    }
   ],
   "source": [
    "ord('7') - ord('0')"
   ]
  },
  {
   "cell_type": "code",
   "execution_count": 39,
   "metadata": {},
   "outputs": [
    {
     "data": {
      "text/plain": [
       "'spamSPAM!'"
      ]
     },
     "execution_count": 39,
     "metadata": {},
     "output_type": "execute_result"
    }
   ],
   "source": [
    "s = 'spam'\n",
    "s = s + 'SPAM!'\n",
    "s"
   ]
  },
  {
   "cell_type": "code",
   "execution_count": 47,
   "metadata": {},
   "outputs": [
    {
     "data": {
      "text/plain": [
       "'spam WWW!'"
      ]
     },
     "execution_count": 47,
     "metadata": {},
     "output_type": "execute_result"
    }
   ],
   "source": [
    "s = s[:4] + ' WWW' + s[-1]\n",
    "s"
   ]
  },
  {
   "cell_type": "code",
   "execution_count": 48,
   "metadata": {},
   "outputs": [
    {
     "data": {
      "text/plain": [
       "'spam TTT!'"
      ]
     },
     "execution_count": 48,
     "metadata": {},
     "output_type": "execute_result"
    }
   ],
   "source": [
    "s = s.replace('WWW','TTT')\n",
    "s"
   ]
  },
  {
   "cell_type": "code",
   "execution_count": 50,
   "metadata": {},
   "outputs": [
    {
     "data": {
      "text/plain": [
       "'That is 1 dead bird!'"
      ]
     },
     "execution_count": 50,
     "metadata": {},
     "output_type": "execute_result"
    }
   ],
   "source": [
    "text = 'That is %d %s bird!' %(1,'dead')\n",
    "text"
   ]
  },
  {
   "cell_type": "code",
   "execution_count": 51,
   "metadata": {},
   "outputs": [
    {
     "data": {
      "text/plain": [
       "'That is 1 dead bird!'"
      ]
     },
     "execution_count": 51,
     "metadata": {},
     "output_type": "execute_result"
    }
   ],
   "source": [
    "'That is {0} {1} bird!'.format(1,'dead')"
   ]
  },
  {
   "cell_type": "code",
   "execution_count": 58,
   "metadata": {},
   "outputs": [
    {
     "data": {
      "text/plain": [
       "4"
      ]
     },
     "execution_count": 58,
     "metadata": {},
     "output_type": "execute_result"
    }
   ],
   "source": [
    "s = 'xxxxSPAMxxxxSPAMxxxx'\n",
    "where = s.find('SPAM')\n",
    "where"
   ]
  },
  {
   "cell_type": "code",
   "execution_count": 60,
   "metadata": {},
   "outputs": [
    {
     "data": {
      "text/plain": [
       "'xxxxWWWxxxSPAMxxxx'"
      ]
     },
     "execution_count": 60,
     "metadata": {},
     "output_type": "execute_result"
    }
   ],
   "source": [
    "s = s[:where] + 'WWW' + s[where+4:]\n",
    "s"
   ]
  },
  {
   "cell_type": "code",
   "execution_count": 62,
   "metadata": {},
   "outputs": [
    {
     "data": {
      "text/plain": [
       "'xxxxSPAMxxxSPAMxxxx'"
      ]
     },
     "execution_count": 62,
     "metadata": {},
     "output_type": "execute_result"
    }
   ],
   "source": [
    "s = s.replace('WWW','SPAM',1)\n",
    "s"
   ]
  },
  {
   "cell_type": "code",
   "execution_count": 63,
   "metadata": {},
   "outputs": [
    {
     "data": {
      "text/plain": [
       "['h', 'e', 'l', 'l', 'o']"
      ]
     },
     "execution_count": 63,
     "metadata": {},
     "output_type": "execute_result"
    }
   ],
   "source": [
    "s = 'hello'\n",
    "s = list(s)\n",
    "s"
   ]
  },
  {
   "cell_type": "code",
   "execution_count": 64,
   "metadata": {},
   "outputs": [
    {
     "data": {
      "text/plain": [
       "['h', 'e', 'L', 'L', 'o']"
      ]
     },
     "execution_count": 64,
     "metadata": {},
     "output_type": "execute_result"
    }
   ],
   "source": [
    "s[2] = 'L'\n",
    "s[3] = 'L'\n",
    "s\n"
   ]
  },
  {
   "cell_type": "code",
   "execution_count": 66,
   "metadata": {},
   "outputs": [
    {
     "data": {
      "text/plain": [
       "'heLLo'"
      ]
     },
     "execution_count": 66,
     "metadata": {},
     "output_type": "execute_result"
    }
   ],
   "source": [
    "s = \"\".join(s)\n",
    "s"
   ]
  },
  {
   "cell_type": "code",
   "execution_count": 68,
   "metadata": {},
   "outputs": [
    {
     "data": {
      "text/plain": [
       "'eggsSPAMsausageSPAMhamSPAMtoast'"
      ]
     },
     "execution_count": 68,
     "metadata": {},
     "output_type": "execute_result"
    }
   ],
   "source": [
    "'SPAM'.join(['eggs', 'sausage', 'ham', 'toast'])"
   ]
  },
  {
   "cell_type": "code",
   "execution_count": 73,
   "metadata": {},
   "outputs": [
    {
     "data": {
      "text/plain": [
       "['aaa', 'bbb', 'ccc']"
      ]
     },
     "execution_count": 73,
     "metadata": {},
     "output_type": "execute_result"
    }
   ],
   "source": [
    "line = 'aaa bbb ccc'\n",
    "c = line.split()\n",
    "c"
   ]
  },
  {
   "cell_type": "code",
   "execution_count": 74,
   "metadata": {},
   "outputs": [
    {
     "data": {
      "text/plain": [
       "['aaa', 'bbb', 'ccc']"
      ]
     },
     "execution_count": 74,
     "metadata": {},
     "output_type": "execute_result"
    }
   ],
   "source": [
    "line = 'aaa,bbb,ccc'\n",
    "c = line.split(',')\n",
    "c"
   ]
  },
  {
   "cell_type": "code",
   "execution_count": 83,
   "metadata": {},
   "outputs": [
    {
     "data": {
      "text/plain": [
       "'aaabbbccc'"
      ]
     },
     "execution_count": 83,
     "metadata": {},
     "output_type": "execute_result"
    }
   ],
   "source": [
    "line = 'aaabbbccc      \\n'\n",
    "line.strip()"
   ]
  },
  {
   "cell_type": "code",
   "execution_count": 84,
   "metadata": {},
   "outputs": [
    {
     "data": {
      "text/plain": [
       "'AAABBBCCC      \\n'"
      ]
     },
     "execution_count": 84,
     "metadata": {},
     "output_type": "execute_result"
    }
   ],
   "source": [
    "line.upper()"
   ]
  },
  {
   "cell_type": "code",
   "execution_count": 85,
   "metadata": {},
   "outputs": [
    {
     "data": {
      "text/plain": [
       "True"
      ]
     },
     "execution_count": 85,
     "metadata": {},
     "output_type": "execute_result"
    }
   ],
   "source": [
    "line.endswith(\"\\n\")"
   ]
  },
  {
   "cell_type": "code",
   "execution_count": 88,
   "metadata": {},
   "outputs": [
    {
     "data": {
      "text/plain": [
       "True"
      ]
     },
     "execution_count": 88,
     "metadata": {},
     "output_type": "execute_result"
    }
   ],
   "source": [
    "line.startswith('aaa')"
   ]
  },
  {
   "cell_type": "code",
   "execution_count": 92,
   "metadata": {},
   "outputs": [
    {
     "data": {
      "text/plain": [
       "True"
      ]
     },
     "execution_count": 92,
     "metadata": {},
     "output_type": "execute_result"
    }
   ],
   "source": [
    "line.find('a') != -1"
   ]
  },
  {
   "cell_type": "code",
   "execution_count": 94,
   "metadata": {},
   "outputs": [
    {
     "data": {
      "text/plain": [
       "True"
      ]
     },
     "execution_count": 94,
     "metadata": {},
     "output_type": "execute_result"
    }
   ],
   "source": [
    "'a' in line"
   ]
  },
  {
   "cell_type": "code",
   "execution_count": 98,
   "metadata": {},
   "outputs": [
    {
     "data": {
      "text/plain": [
       "True"
      ]
     },
     "execution_count": 98,
     "metadata": {},
     "output_type": "execute_result"
    }
   ],
   "source": [
    "sub = '\\n'\n",
    "line[-len(sub):] == sub"
   ]
  },
  {
   "cell_type": "code",
   "execution_count": 100,
   "metadata": {},
   "outputs": [
    {
     "ename": "AttributeError",
     "evalue": "module 'string' has no attribute 'replace'",
     "output_type": "error",
     "traceback": [
      "\u001b[0;31m---------------------------------------------------------------------------\u001b[0m",
      "\u001b[0;31mAttributeError\u001b[0m                            Traceback (most recent call last)",
      "\u001b[0;32m<ipython-input-100-92bd587cc66a>\u001b[0m in \u001b[0;36m<module>\u001b[0;34m()\u001b[0m\n\u001b[1;32m      1\u001b[0m \u001b[0;32mimport\u001b[0m \u001b[0mstring\u001b[0m\u001b[0;34m\u001b[0m\u001b[0m\n\u001b[0;32m----> 2\u001b[0;31m \u001b[0my\u001b[0m \u001b[0;34m=\u001b[0m \u001b[0mstring\u001b[0m\u001b[0;34m.\u001b[0m\u001b[0mreplace\u001b[0m\u001b[0;34m(\u001b[0m\u001b[0mline\u001b[0m\u001b[0;34m,\u001b[0m \u001b[0;34m'a'\u001b[0m\u001b[0;34m,\u001b[0m \u001b[0;34m'ZZZ'\u001b[0m\u001b[0;34m)\u001b[0m\u001b[0;34m\u001b[0m\u001b[0m\n\u001b[0m\u001b[1;32m      3\u001b[0m \u001b[0my\u001b[0m\u001b[0;34m\u001b[0m\u001b[0m\n",
      "\u001b[0;31mAttributeError\u001b[0m: module 'string' has no attribute 'replace'"
     ]
    }
   ],
   "source": [
    "import string\n",
    "y = string.replace(line, 'a', 'ZZZ')\n",
    "y"
   ]
  },
  {
   "cell_type": "code",
   "execution_count": 101,
   "metadata": {},
   "outputs": [
    {
     "data": {
      "text/plain": [
       "'1.234568e+00 | 1.234568 | 1.23457'"
      ]
     },
     "execution_count": 101,
     "metadata": {},
     "output_type": "execute_result"
    }
   ],
   "source": [
    "x = 1.23456789\n",
    "\n",
    "'%e | %f | %g' %(x,x,x)"
   ]
  },
  {
   "cell_type": "code",
   "execution_count": 105,
   "metadata": {},
   "outputs": [
    {
     "data": {
      "text/plain": [
       "('1.23456789', '1.23456789', '1.23456789')"
      ]
     },
     "execution_count": 105,
     "metadata": {},
     "output_type": "execute_result"
    }
   ],
   "source": [
    "'%s' %x,str(x),repr(x)"
   ]
  },
  {
   "cell_type": "code",
   "execution_count": 110,
   "metadata": {},
   "outputs": [
    {
     "data": {
      "text/plain": [
       "'0.3'"
      ]
     },
     "execution_count": 110,
     "metadata": {},
     "output_type": "execute_result"
    }
   ],
   "source": [
    "'%.*f' %(1,1/3.0)"
   ]
  },
  {
   "cell_type": "code",
   "execution_count": 111,
   "metadata": {},
   "outputs": [
    {
     "data": {
      "text/plain": [
       "'55 spam'"
      ]
     },
     "execution_count": 111,
     "metadata": {},
     "output_type": "execute_result"
    }
   ],
   "source": [
    "'%(n)d %(x)s' % {'n':55,'x':'spam'}"
   ]
  },
  {
   "cell_type": "code",
   "execution_count": 113,
   "metadata": {},
   "outputs": [
    {
     "name": "stdout",
     "output_type": "stream",
     "text": [
      "\n",
      "Greetings...\n",
      "Hello Bob!\n",
      "Your age squared is 55\n",
      "\n"
     ]
    }
   ],
   "source": [
    "msg = \"\"\"\n",
    "Greetings...\n",
    "Hello %(name)s!\n",
    "Your age squared is %(age)s\n",
    "\"\"\"\n",
    "values = {'name':'Bob', 'age': 55}\n",
    "print(msg % values)"
   ]
  },
  {
   "cell_type": "code",
   "execution_count": 114,
   "metadata": {},
   "outputs": [
    {
     "data": {
      "text/plain": [
       "{'In': ['',\n",
       "  'a = 3 \\nb = a\\nb',\n",
       "  'a = 3\\nb = a\\na = a + 2\\na',\n",
       "  'l1 = [1,2,3,4]\\nl2 = l1\\nl1 = 15\\nl2',\n",
       "  'l1 = [1,2,3,4]\\nl2 = l1\\nl1[0] = 55\\nl2',\n",
       "  'l1 = [1,2,3,4,5]\\nl2 = l1[:]\\nl1[0] = 55\\nl2',\n",
       "  'import copy\\nl3 = [1,2]\\nl4 = copy.copy(l3)\\n# l4 = copy.deepcopy(l3)\\nl4',\n",
       "  'n = [1,2,3]\\nm = n\\nn is m',\n",
       "  'n == m',\n",
       "  'n = [1,2,3]\\nm = [1,2,3]\\nn is m\\nh = 1',\n",
       "  'import sys\\nsys.getrefcount(1)',\n",
       "  \"a = ['spam']\\nb = a\\nb[0] = 'qwerty'\\na\",\n",
       "  'a = [\\'spam\\']\\nb = a[:]\\nb[0] = \"qwerty\"\\na',\n",
       "  'title = \"Meaning \" \\'of\\' \" life\"\\ntitle',\n",
       "  'title = \"meaning\",\\'of\\',\\'life\\'\\ntitle',\n",
       "  '\"asd\\\\\"\"',\n",
       "  \"'asd\\\\''\",\n",
       "  \"s = 'a\\\\nb\\\\tc'\\nprint(s)\",\n",
       "  's = \"q\\\\vwerty\"\\nprint(s)',\n",
       "  \"s = 'a\\\\0b\\\\0c'\\ns\",\n",
       "  \"# myfile = open('C:\\\\new\\\\text.dat', 'w')\\nmyfile = open(r'C:\\\\new\\\\text.dat', 'w')\\nmyfile\",\n",
       "  \"path = 'C:\\\\\\\\new\\\\\\\\text.dat'\\nprint(path)\",\n",
       "  'text = \"\"\"asbglsdhvjkbhvpehgb,dfb\\nfbj nkjbn kjfbnkjfdg\\ngbnkgjbfj dfg\\nsdbhdfbhjkfbsjhvwe    fjhsddbsdfb\\ndfbdfb\\nbjhb\"\"\"\\ntext',\n",
       "  'print(text)',\n",
       "  \"len('asdasd')\",\n",
       "  \"'ass'+'qwe'\",\n",
       "  '\"aaa\"*4',\n",
       "  's = \"string\"\\nfor c in s:\\n    print(c, end=\" \")',\n",
       "  \"'s' in s\",\n",
       "  \"s = 'hello'\\ns[::-1]\",\n",
       "  's[3:1:-1]',\n",
       "  \"'spam'[1:3]\",\n",
       "  \"'spam'[slice(1,3)]\",\n",
       "  \"'spam'[::-1]\",\n",
       "  \"'spam'[slice(None,None,-1)]\",\n",
       "  \"repr('spam')\",\n",
       "  \"b = '1101'\\ni = 0\\nwhile b != '':\\n    i = i*2 + (ord(b[0]) - ord('0'))\\n    b = b[1:]\\n    \\ni\",\n",
       "  \"ord('7') - ord('0')\",\n",
       "  \"s = s + 'spam'\\ns\",\n",
       "  \"s = 'spam'\\ns = s + 'SPAM!'\\ns\",\n",
       "  \"s = s[:4] + ' WWW ' + s[-1]\",\n",
       "  \"s = s[:4] + ' WWW ' + s[-1]\\ns\",\n",
       "  \"s = s[:4] + ' WWW' + s[-1]\\ns\",\n",
       "  \"s = s.replace('WWW','XXX')\\ns\",\n",
       "  \"s = s.replace('WWW','TTT')\\ns\",\n",
       "  \"s = s.replace('WWW','TTT')\\ns\",\n",
       "  \"s = s.replace('WWW','TTT')\\ns\",\n",
       "  \"s = s[:4] + ' WWW' + s[-1]\\ns\",\n",
       "  \"s = s.replace('WWW','TTT')\\ns\",\n",
       "  \"text = 'That is %d %s bird!' %(1,'dead')\",\n",
       "  \"text = 'That is %d %s bird!' %(1,'dead')\\ntext\",\n",
       "  \"'That is {0} {1} bird!'.format(1,'dead')\",\n",
       "  \"s = 'spamspamspam'\\nk = s.find('spam')\\nk\",\n",
       "  \"s = 'spamspamspam'\\nk = s.find('s')\\nk\",\n",
       "  \"s = 'xxxxSPAMxxxxSPAMxxxx'\\nwhere = s.find('SPAM')\\nwhere\",\n",
       "  \"s = 'xxxxxxxxSPAMxxxx'\\nwhere = s.find('SPAM')\\nwhere\",\n",
       "  \"s = s[:where] + 'www' + s[where+4:]\",\n",
       "  \"s = s[:where] + 'www' + s[where+4:]\\ns\",\n",
       "  \"s = 'xxxxSPAMxxxxSPAMxxxx'\\nwhere = s.find('SPAM')\\nwhere\",\n",
       "  \"s = s[:where] + 'www' + s[where+4:]\\ns\",\n",
       "  \"s = s[:where] + 'WWW' + s[where+4:]\\ns\",\n",
       "  \"s = s.replase('WWW','SPAM',1)\\ns\",\n",
       "  \"s = s.replace('WWW','SPAM',1)\\ns\",\n",
       "  \"s = 'hello'\\ns = list(s)\\ns\",\n",
       "  \"s[2] = 'L'\\ns[3] = 'L'\\ns\",\n",
       "  's = join(s)\\ns',\n",
       "  's = \"\".join(s)\\ns',\n",
       "  \"'SPAM'.join(['eggs, 'sausage', 'ham', 'toast'])\",\n",
       "  \"'SPAM'.join(['eggs', 'sausage', 'ham', 'toast'])\",\n",
       "  \"line = 'aaa bbb ccc'\\nc = line.split()\\nc\",\n",
       "  \"line = 'aaa bbb ccc'\\nc = line.split( )\\nc\",\n",
       "  'line = \\'aaa bbb ccc\\'\\nc = line.split(\"\")\\nc',\n",
       "  'line = \\'aaa bbb ccc\\'\\nc = line.split(\" \")\\nc',\n",
       "  \"line = 'aaa bbb ccc'\\nc = line.split()\\nc\",\n",
       "  \"line = 'aaa,bbb,ccc'\\nc = line.split(',')\\nc\",\n",
       "  \"line = 'aaabbbccc       '\\nprint(line)\",\n",
       "  \"line = 'aaabbbccc      \\\\n '\\nprint(line)\",\n",
       "  \"line = 'aaabbbccc      \\\\n '\\nline.rstrip()\",\n",
       "  \"line = 'aaabbbccc      \\\\n '\\nline.strip()\",\n",
       "  'l.upper()',\n",
       "  'line.upper()',\n",
       "  'line.endswith()',\n",
       "  'line.endswith(\" \")',\n",
       "  \"line = 'aaabbbccc      \\\\n'\\nline.strip()\",\n",
       "  'line.upper()',\n",
       "  'line.endswith(\"\\\\n\")',\n",
       "  \"line.startswith('aaa')\",\n",
       "  \"line.startswith('aaas')\",\n",
       "  \"line.startswith('aaa')\",\n",
       "  \"line.find('a') != 0\",\n",
       "  \"line.find('a') != -1\",\n",
       "  \"line.find('m') != -1\",\n",
       "  \"line.find('a') != -1\",\n",
       "  'a in line',\n",
       "  \"'a' in line\",\n",
       "  \"sub = '\\\\n'\\nline[-len(sub):] == sub\",\n",
       "  \"sub = '\\\\n'\\nlen(sub)\\nline[-len(sub):] == sub\",\n",
       "  \"sub = '\\\\n'\\nlen(sub)\\n# line[-len(sub):] == sub\",\n",
       "  \"sub = '\\\\n'\\nline[-len(sub):] == sub\",\n",
       "  \"import string\\ny = string.replace(line,'a','ZZZ')\\ny\",\n",
       "  \"import string\\ny = string.replace(line, 'a', 'ZZZ')\\ny\",\n",
       "  \"x = 1.23456789\\n\\n'%e | %f | %g' %(x,x,x)\",\n",
       "  \"'%-6.2f | %05.2f | %+06.1f' % (x,x,x)\",\n",
       "  \"'%s' %x,str(x)\",\n",
       "  \"'%s' %x,str(x),retp(x)\",\n",
       "  \"'%s' %x,str(x),repr(x)\",\n",
       "  '1/3.0',\n",
       "  \"'%f' %(1/3.0)\",\n",
       "  \"'%f' %(4,1/3.0)\",\n",
       "  \"'%.*f' %(4,1/3.0)\",\n",
       "  \"'%.*f' %(1,1/3.0)\",\n",
       "  \"'%(n)d %(x)s' % {'n':55,'x':'spam'}\",\n",
       "  'msg = \"\"\"\\nGreetings...\\nHello %(name)s!\\nYour age squared is %(age)s\\n\"\"\"\\nvalues = {\\'name\\':\\'Bob\\', \\'age\\': 55}\\nmsg % values',\n",
       "  'msg = \"\"\"\\nGreetings...\\nHello %(name)s!\\nYour age squared is %(age)s\\n\"\"\"\\nvalues = {\\'name\\':\\'Bob\\', \\'age\\': 55}\\nprint(msg % values)',\n",
       "  \"food  = 'spam'\\nage = 40\\nvars()\"],\n",
       " 'Out': {1: 3,\n",
       "  2: 5,\n",
       "  3: [1, 2, 3, 4],\n",
       "  4: [55, 2, 3, 4],\n",
       "  5: [1, 2, 3, 4, 5],\n",
       "  6: [1, 2],\n",
       "  7: True,\n",
       "  8: True,\n",
       "  10: 3034,\n",
       "  11: ['qwerty'],\n",
       "  12: ['spam'],\n",
       "  13: 'Meaning of life',\n",
       "  14: ('meaning', 'of', 'life'),\n",
       "  15: 'asd\"',\n",
       "  16: \"asd'\",\n",
       "  19: 'a\\x00b\\x00c',\n",
       "  20: <_io.TextIOWrapper name='C:\\\\new\\\\text.dat' mode='w' encoding='UTF-8'>,\n",
       "  22: 'asbglsdhvjkbhvpehgb,dfb\\nfbj nkjbn kjfbnkjfdg\\ngbnkgjbfj dfg\\nsdbhdfbhjkfbsjhvwe    fjhsddbsdfb\\ndfbdfb\\nbjhb',\n",
       "  24: 6,\n",
       "  25: 'assqwe',\n",
       "  26: 'aaaaaaaaaaaa',\n",
       "  28: True,\n",
       "  29: 'olleh',\n",
       "  30: 'll',\n",
       "  31: 'pa',\n",
       "  32: 'pa',\n",
       "  33: 'maps',\n",
       "  34: 'maps',\n",
       "  35: \"'spam'\",\n",
       "  36: 13,\n",
       "  37: 7,\n",
       "  38: 'hellospam',\n",
       "  39: 'spamSPAM!',\n",
       "  41: 'spam WWW !',\n",
       "  42: 'spam WWW!',\n",
       "  43: 'spam XXX!',\n",
       "  44: 'spam XXX!',\n",
       "  45: 'spam XXX!',\n",
       "  46: 'spam XXX!',\n",
       "  47: 'spam WWW!',\n",
       "  48: 'spam TTT!',\n",
       "  50: 'That is 1 dead bird!',\n",
       "  51: 'That is 1 dead bird!',\n",
       "  52: 0,\n",
       "  53: 0,\n",
       "  54: 4,\n",
       "  55: 8,\n",
       "  57: 'xxxxxxxxwwwxxx',\n",
       "  58: 4,\n",
       "  59: 'xxxxwwwxxxxSPAMxxxx',\n",
       "  60: 'xxxxWWWxxxSPAMxxxx',\n",
       "  62: 'xxxxSPAMxxxSPAMxxxx',\n",
       "  63: ['h', 'e', 'L', 'L', 'o'],\n",
       "  64: ['h', 'e', 'L', 'L', 'o'],\n",
       "  66: 'heLLo',\n",
       "  68: 'eggsSPAMsausageSPAMhamSPAMtoast',\n",
       "  69: ['aaa', 'bbb', 'ccc'],\n",
       "  70: ['aaa', 'bbb', 'ccc'],\n",
       "  72: ['aaa', 'bbb', 'ccc'],\n",
       "  73: ['aaa', 'bbb', 'ccc'],\n",
       "  74: ['aaa', 'bbb', 'ccc'],\n",
       "  77: 'aaabbbccc',\n",
       "  78: 'aaabbbccc',\n",
       "  80: 'AAABBBCCC      \\n ',\n",
       "  82: True,\n",
       "  83: 'aaabbbccc',\n",
       "  84: 'AAABBBCCC      \\n',\n",
       "  85: True,\n",
       "  86: True,\n",
       "  87: False,\n",
       "  88: True,\n",
       "  89: False,\n",
       "  90: True,\n",
       "  91: False,\n",
       "  92: True,\n",
       "  94: True,\n",
       "  95: True,\n",
       "  96: True,\n",
       "  97: 1,\n",
       "  98: True,\n",
       "  101: '1.234568e+00 | 1.234568 | 1.23457',\n",
       "  102: '1.23   | 01.23 | +001.2',\n",
       "  103: ('1.23456789', '1.23456789'),\n",
       "  105: ('1.23456789', '1.23456789', '1.23456789'),\n",
       "  106: 0.3333333333333333,\n",
       "  107: '0.333333',\n",
       "  109: '0.3333',\n",
       "  110: '0.3',\n",
       "  111: '55 spam',\n",
       "  112: '\\nGreetings...\\nHello Bob!\\nYour age squared is 55\\n'},\n",
       " '_': '\\nGreetings...\\nHello Bob!\\nYour age squared is 55\\n',\n",
       " '_1': 3,\n",
       " '_10': 3034,\n",
       " '_101': '1.234568e+00 | 1.234568 | 1.23457',\n",
       " '_102': '1.23   | 01.23 | +001.2',\n",
       " '_103': ('1.23456789', '1.23456789'),\n",
       " '_105': ('1.23456789', '1.23456789', '1.23456789'),\n",
       " '_106': 0.3333333333333333,\n",
       " '_107': '0.333333',\n",
       " '_109': '0.3333',\n",
       " '_11': ['qwerty'],\n",
       " '_110': '0.3',\n",
       " '_111': '55 spam',\n",
       " '_112': '\\nGreetings...\\nHello Bob!\\nYour age squared is 55\\n',\n",
       " '_12': ['spam'],\n",
       " '_13': 'Meaning of life',\n",
       " '_14': ('meaning', 'of', 'life'),\n",
       " '_15': 'asd\"',\n",
       " '_16': \"asd'\",\n",
       " '_19': 'a\\x00b\\x00c',\n",
       " '_2': 5,\n",
       " '_20': <_io.TextIOWrapper name='C:\\\\new\\\\text.dat' mode='w' encoding='UTF-8'>,\n",
       " '_22': 'asbglsdhvjkbhvpehgb,dfb\\nfbj nkjbn kjfbnkjfdg\\ngbnkgjbfj dfg\\nsdbhdfbhjkfbsjhvwe    fjhsddbsdfb\\ndfbdfb\\nbjhb',\n",
       " '_24': 6,\n",
       " '_25': 'assqwe',\n",
       " '_26': 'aaaaaaaaaaaa',\n",
       " '_28': True,\n",
       " '_29': 'olleh',\n",
       " '_3': [1, 2, 3, 4],\n",
       " '_30': 'll',\n",
       " '_31': 'pa',\n",
       " '_32': 'pa',\n",
       " '_33': 'maps',\n",
       " '_34': 'maps',\n",
       " '_35': \"'spam'\",\n",
       " '_36': 13,\n",
       " '_37': 7,\n",
       " '_38': 'hellospam',\n",
       " '_39': 'spamSPAM!',\n",
       " '_4': [55, 2, 3, 4],\n",
       " '_41': 'spam WWW !',\n",
       " '_42': 'spam WWW!',\n",
       " '_43': 'spam XXX!',\n",
       " '_44': 'spam XXX!',\n",
       " '_45': 'spam XXX!',\n",
       " '_46': 'spam XXX!',\n",
       " '_47': 'spam WWW!',\n",
       " '_48': 'spam TTT!',\n",
       " '_5': [1, 2, 3, 4, 5],\n",
       " '_50': 'That is 1 dead bird!',\n",
       " '_51': 'That is 1 dead bird!',\n",
       " '_52': 0,\n",
       " '_53': 0,\n",
       " '_54': 4,\n",
       " '_55': 8,\n",
       " '_57': 'xxxxxxxxwwwxxx',\n",
       " '_58': 4,\n",
       " '_59': 'xxxxwwwxxxxSPAMxxxx',\n",
       " '_6': [1, 2],\n",
       " '_60': 'xxxxWWWxxxSPAMxxxx',\n",
       " '_62': 'xxxxSPAMxxxSPAMxxxx',\n",
       " '_63': ['h', 'e', 'L', 'L', 'o'],\n",
       " '_64': ['h', 'e', 'L', 'L', 'o'],\n",
       " '_66': 'heLLo',\n",
       " '_68': 'eggsSPAMsausageSPAMhamSPAMtoast',\n",
       " '_69': ['aaa', 'bbb', 'ccc'],\n",
       " '_7': True,\n",
       " '_70': ['aaa', 'bbb', 'ccc'],\n",
       " '_72': ['aaa', 'bbb', 'ccc'],\n",
       " '_73': ['aaa', 'bbb', 'ccc'],\n",
       " '_74': ['aaa', 'bbb', 'ccc'],\n",
       " '_77': 'aaabbbccc',\n",
       " '_78': 'aaabbbccc',\n",
       " '_8': True,\n",
       " '_80': 'AAABBBCCC      \\n ',\n",
       " '_82': True,\n",
       " '_83': 'aaabbbccc',\n",
       " '_84': 'AAABBBCCC      \\n',\n",
       " '_85': True,\n",
       " '_86': True,\n",
       " '_87': False,\n",
       " '_88': True,\n",
       " '_89': False,\n",
       " '_90': True,\n",
       " '_91': False,\n",
       " '_92': True,\n",
       " '_94': True,\n",
       " '_95': True,\n",
       " '_96': True,\n",
       " '_97': 1,\n",
       " '_98': True,\n",
       " '__': '55 spam',\n",
       " '___': '0.3',\n",
       " '__builtin__': <module 'builtins' (built-in)>,\n",
       " '__builtins__': <module 'builtins' (built-in)>,\n",
       " '__doc__': 'Automatically created module for IPython interactive environment',\n",
       " '__loader__': None,\n",
       " '__name__': '__main__',\n",
       " '__package__': None,\n",
       " '__spec__': None,\n",
       " '_dh': ['/var/www/lessons/day_4'],\n",
       " '_i': 'msg = \"\"\"\\nGreetings...\\nHello %(name)s!\\nYour age squared is %(age)s\\n\"\"\"\\nvalues = {\\'name\\':\\'Bob\\', \\'age\\': 55}\\nprint(msg % values)',\n",
       " '_i1': 'a = 3 \\nb = a\\nb',\n",
       " '_i10': 'import sys\\nsys.getrefcount(1)',\n",
       " '_i100': \"import string\\ny = string.replace(line, 'a', 'ZZZ')\\ny\",\n",
       " '_i101': \"x = 1.23456789\\n\\n'%e | %f | %g' %(x,x,x)\",\n",
       " '_i102': \"'%-6.2f | %05.2f | %+06.1f' % (x,x,x)\",\n",
       " '_i103': \"'%s' %x,str(x)\",\n",
       " '_i104': \"'%s' %x,str(x),retp(x)\",\n",
       " '_i105': \"'%s' %x,str(x),repr(x)\",\n",
       " '_i106': '1/3.0',\n",
       " '_i107': \"'%f' %(1/3.0)\",\n",
       " '_i108': \"'%f' %(4,1/3.0)\",\n",
       " '_i109': \"'%.*f' %(4,1/3.0)\",\n",
       " '_i11': \"a = ['spam']\\nb = a\\nb[0] = 'qwerty'\\na\",\n",
       " '_i110': \"'%.*f' %(1,1/3.0)\",\n",
       " '_i111': \"'%(n)d %(x)s' % {'n':55,'x':'spam'}\",\n",
       " '_i112': 'msg = \"\"\"\\nGreetings...\\nHello %(name)s!\\nYour age squared is %(age)s\\n\"\"\"\\nvalues = {\\'name\\':\\'Bob\\', \\'age\\': 55}\\nmsg % values',\n",
       " '_i113': 'msg = \"\"\"\\nGreetings...\\nHello %(name)s!\\nYour age squared is %(age)s\\n\"\"\"\\nvalues = {\\'name\\':\\'Bob\\', \\'age\\': 55}\\nprint(msg % values)',\n",
       " '_i114': \"food  = 'spam'\\nage = 40\\nvars()\",\n",
       " '_i12': 'a = [\\'spam\\']\\nb = a[:]\\nb[0] = \"qwerty\"\\na',\n",
       " '_i13': 'title = \"Meaning \" \\'of\\' \" life\"\\ntitle',\n",
       " '_i14': 'title = \"meaning\",\\'of\\',\\'life\\'\\ntitle',\n",
       " '_i15': '\"asd\\\\\"\"',\n",
       " '_i16': \"'asd\\\\''\",\n",
       " '_i17': \"s = 'a\\\\nb\\\\tc'\\nprint(s)\",\n",
       " '_i18': 's = \"q\\\\vwerty\"\\nprint(s)',\n",
       " '_i19': \"s = 'a\\\\0b\\\\0c'\\ns\",\n",
       " '_i2': 'a = 3\\nb = a\\na = a + 2\\na',\n",
       " '_i20': \"# myfile = open('C:\\\\new\\\\text.dat', 'w')\\nmyfile = open(r'C:\\\\new\\\\text.dat', 'w')\\nmyfile\",\n",
       " '_i21': \"path = 'C:\\\\\\\\new\\\\\\\\text.dat'\\nprint(path)\",\n",
       " '_i22': 'text = \"\"\"asbglsdhvjkbhvpehgb,dfb\\n... fbj nkjbn kjfbnkjfdg\\n... gbnkgjbfj dfg\\nsdbhdfbhjkfbsjhvwe    fjhsddbsdfb\\ndfbdfb\\nbjhb\"\"\"\\ntext',\n",
       " '_i23': 'print(text)',\n",
       " '_i24': \"len('asdasd')\",\n",
       " '_i25': \"'ass'+'qwe'\",\n",
       " '_i26': '\"aaa\"*4',\n",
       " '_i27': 's = \"string\"\\nfor c in s:\\n    print(c, end=\" \")',\n",
       " '_i28': \"'s' in s\",\n",
       " '_i29': \"s = 'hello'\\ns[::-1]\",\n",
       " '_i3': 'l1 = [1,2,3,4]\\nl2 = l1\\nl1 = 15\\nl2',\n",
       " '_i30': 's[3:1:-1]',\n",
       " '_i31': \"'spam'[1:3]\",\n",
       " '_i32': \"'spam'[slice(1,3)]\",\n",
       " '_i33': \"'spam'[::-1]\",\n",
       " '_i34': \"'spam'[slice(None,None,-1)]\",\n",
       " '_i35': \"repr('spam')\",\n",
       " '_i36': \"b = '1101'\\ni = 0\\nwhile b != '':\\n    i = i*2 + (ord(b[0]) - ord('0'))\\n    b = b[1:]\\n    \\ni\",\n",
       " '_i37': \"ord('7') - ord('0')\",\n",
       " '_i38': \"s = s + 'spam'\\ns\",\n",
       " '_i39': \"s = 'spam'\\ns = s + 'SPAM!'\\ns\",\n",
       " '_i4': 'l1 = [1,2,3,4]\\nl2 = l1\\nl1[0] = 55\\nl2',\n",
       " '_i40': \"s = s[:4] + ' WWW ' + s[-1]\",\n",
       " '_i41': \"s = s[:4] + ' WWW ' + s[-1]\\ns\",\n",
       " '_i42': \"s = s[:4] + ' WWW' + s[-1]\\ns\",\n",
       " '_i43': \"s = s.replace('WWW','XXX')\\ns\",\n",
       " '_i44': \"s = s.replace('WWW','TTT')\\ns\",\n",
       " '_i45': \"s = s.replace('WWW','TTT')\\ns\",\n",
       " '_i46': \"s = s.replace('WWW','TTT')\\ns\",\n",
       " '_i47': \"s = s[:4] + ' WWW' + s[-1]\\ns\",\n",
       " '_i48': \"s = s.replace('WWW','TTT')\\ns\",\n",
       " '_i49': \"text = 'That is %d %s bird!' %(1,'dead')\",\n",
       " '_i5': 'l1 = [1,2,3,4,5]\\nl2 = l1[:]\\nl1[0] = 55\\nl2',\n",
       " '_i50': \"text = 'That is %d %s bird!' %(1,'dead')\\ntext\",\n",
       " '_i51': \"'That is {0} {1} bird!'.format(1,'dead')\",\n",
       " '_i52': \"s = 'spamspamspam'\\nk = s.find('spam')\\nk\",\n",
       " '_i53': \"s = 'spamspamspam'\\nk = s.find('s')\\nk\",\n",
       " '_i54': \"s = 'xxxxSPAMxxxxSPAMxxxx'\\nwhere = s.find('SPAM')\\nwhere\",\n",
       " '_i55': \"s = 'xxxxxxxxSPAMxxxx'\\nwhere = s.find('SPAM')\\nwhere\",\n",
       " '_i56': \"s = s[:where] + 'www' + s[where+4:]\",\n",
       " '_i57': \"s = s[:where] + 'www' + s[where+4:]\\ns\",\n",
       " '_i58': \"s = 'xxxxSPAMxxxxSPAMxxxx'\\nwhere = s.find('SPAM')\\nwhere\",\n",
       " '_i59': \"s = s[:where] + 'www' + s[where+4:]\\ns\",\n",
       " '_i6': 'import copy\\nl3 = [1,2]\\nl4 = copy.copy(l3)\\n# l4 = copy.deepcopy(l3)\\nl4',\n",
       " '_i60': \"s = s[:where] + 'WWW' + s[where+4:]\\ns\",\n",
       " '_i61': \"s = s.replase('WWW','SPAM',1)\\ns\",\n",
       " '_i62': \"s = s.replace('WWW','SPAM',1)\\ns\",\n",
       " '_i63': \"s = 'hello'\\ns = list(s)\\ns\",\n",
       " '_i64': \"s[2] = 'L'\\ns[3] = 'L'\\ns\",\n",
       " '_i65': 's = join(s)\\ns',\n",
       " '_i66': 's = \"\".join(s)\\ns',\n",
       " '_i67': \"'SPAM'.join(['eggs, 'sausage', 'ham', 'toast'])\",\n",
       " '_i68': \"'SPAM'.join(['eggs', 'sausage', 'ham', 'toast'])\",\n",
       " '_i69': \"line = 'aaa bbb ccc'\\nc = line.split()\\nc\",\n",
       " '_i7': 'n = [1,2,3]\\nm = n\\nn is m',\n",
       " '_i70': \"line = 'aaa bbb ccc'\\nc = line.split( )\\nc\",\n",
       " '_i71': 'line = \\'aaa bbb ccc\\'\\nc = line.split(\"\")\\nc',\n",
       " '_i72': 'line = \\'aaa bbb ccc\\'\\nc = line.split(\" \")\\nc',\n",
       " '_i73': \"line = 'aaa bbb ccc'\\nc = line.split()\\nc\",\n",
       " '_i74': \"line = 'aaa,bbb,ccc'\\nc = line.split(',')\\nc\",\n",
       " '_i75': \"line = 'aaabbbccc       '\\nprint(line)\",\n",
       " '_i76': \"line = 'aaabbbccc      \\\\n '\\nprint(line)\",\n",
       " '_i77': \"line = 'aaabbbccc      \\\\n '\\nline.rstrip()\",\n",
       " '_i78': \"line = 'aaabbbccc      \\\\n '\\nline.strip()\",\n",
       " '_i79': 'l.upper()',\n",
       " '_i8': 'n == m',\n",
       " '_i80': 'line.upper()',\n",
       " '_i81': 'line.endswith()',\n",
       " '_i82': 'line.endswith(\" \")',\n",
       " '_i83': \"line = 'aaabbbccc      \\\\n'\\nline.strip()\",\n",
       " '_i84': 'line.upper()',\n",
       " '_i85': 'line.endswith(\"\\\\n\")',\n",
       " '_i86': \"line.startswith('aaa')\",\n",
       " '_i87': \"line.startswith('aaas')\",\n",
       " '_i88': \"line.startswith('aaa')\",\n",
       " '_i89': \"line.find('a') != 0\",\n",
       " '_i9': 'n = [1,2,3]\\nm = [1,2,3]\\nn is m\\nh = 1',\n",
       " '_i90': \"line.find('a') != -1\",\n",
       " '_i91': \"line.find('m') != -1\",\n",
       " '_i92': \"line.find('a') != -1\",\n",
       " '_i93': 'a in line',\n",
       " '_i94': \"'a' in line\",\n",
       " '_i95': \"sub = '\\\\n'\\nline[-len(sub):] == sub\",\n",
       " '_i96': \"sub = '\\\\n'\\nlen(sub)\\nline[-len(sub):] == sub\",\n",
       " '_i97': \"sub = '\\\\n'\\nlen(sub)\\n# line[-len(sub):] == sub\",\n",
       " '_i98': \"sub = '\\\\n'\\nline[-len(sub):] == sub\",\n",
       " '_i99': \"import string\\ny = string.replace(line,'a','ZZZ')\\ny\",\n",
       " '_ih': ['',\n",
       "  'a = 3 \\nb = a\\nb',\n",
       "  'a = 3\\nb = a\\na = a + 2\\na',\n",
       "  'l1 = [1,2,3,4]\\nl2 = l1\\nl1 = 15\\nl2',\n",
       "  'l1 = [1,2,3,4]\\nl2 = l1\\nl1[0] = 55\\nl2',\n",
       "  'l1 = [1,2,3,4,5]\\nl2 = l1[:]\\nl1[0] = 55\\nl2',\n",
       "  'import copy\\nl3 = [1,2]\\nl4 = copy.copy(l3)\\n# l4 = copy.deepcopy(l3)\\nl4',\n",
       "  'n = [1,2,3]\\nm = n\\nn is m',\n",
       "  'n == m',\n",
       "  'n = [1,2,3]\\nm = [1,2,3]\\nn is m\\nh = 1',\n",
       "  'import sys\\nsys.getrefcount(1)',\n",
       "  \"a = ['spam']\\nb = a\\nb[0] = 'qwerty'\\na\",\n",
       "  'a = [\\'spam\\']\\nb = a[:]\\nb[0] = \"qwerty\"\\na',\n",
       "  'title = \"Meaning \" \\'of\\' \" life\"\\ntitle',\n",
       "  'title = \"meaning\",\\'of\\',\\'life\\'\\ntitle',\n",
       "  '\"asd\\\\\"\"',\n",
       "  \"'asd\\\\''\",\n",
       "  \"s = 'a\\\\nb\\\\tc'\\nprint(s)\",\n",
       "  's = \"q\\\\vwerty\"\\nprint(s)',\n",
       "  \"s = 'a\\\\0b\\\\0c'\\ns\",\n",
       "  \"# myfile = open('C:\\\\new\\\\text.dat', 'w')\\nmyfile = open(r'C:\\\\new\\\\text.dat', 'w')\\nmyfile\",\n",
       "  \"path = 'C:\\\\\\\\new\\\\\\\\text.dat'\\nprint(path)\",\n",
       "  'text = \"\"\"asbglsdhvjkbhvpehgb,dfb\\nfbj nkjbn kjfbnkjfdg\\ngbnkgjbfj dfg\\nsdbhdfbhjkfbsjhvwe    fjhsddbsdfb\\ndfbdfb\\nbjhb\"\"\"\\ntext',\n",
       "  'print(text)',\n",
       "  \"len('asdasd')\",\n",
       "  \"'ass'+'qwe'\",\n",
       "  '\"aaa\"*4',\n",
       "  's = \"string\"\\nfor c in s:\\n    print(c, end=\" \")',\n",
       "  \"'s' in s\",\n",
       "  \"s = 'hello'\\ns[::-1]\",\n",
       "  's[3:1:-1]',\n",
       "  \"'spam'[1:3]\",\n",
       "  \"'spam'[slice(1,3)]\",\n",
       "  \"'spam'[::-1]\",\n",
       "  \"'spam'[slice(None,None,-1)]\",\n",
       "  \"repr('spam')\",\n",
       "  \"b = '1101'\\ni = 0\\nwhile b != '':\\n    i = i*2 + (ord(b[0]) - ord('0'))\\n    b = b[1:]\\n    \\ni\",\n",
       "  \"ord('7') - ord('0')\",\n",
       "  \"s = s + 'spam'\\ns\",\n",
       "  \"s = 'spam'\\ns = s + 'SPAM!'\\ns\",\n",
       "  \"s = s[:4] + ' WWW ' + s[-1]\",\n",
       "  \"s = s[:4] + ' WWW ' + s[-1]\\ns\",\n",
       "  \"s = s[:4] + ' WWW' + s[-1]\\ns\",\n",
       "  \"s = s.replace('WWW','XXX')\\ns\",\n",
       "  \"s = s.replace('WWW','TTT')\\ns\",\n",
       "  \"s = s.replace('WWW','TTT')\\ns\",\n",
       "  \"s = s.replace('WWW','TTT')\\ns\",\n",
       "  \"s = s[:4] + ' WWW' + s[-1]\\ns\",\n",
       "  \"s = s.replace('WWW','TTT')\\ns\",\n",
       "  \"text = 'That is %d %s bird!' %(1,'dead')\",\n",
       "  \"text = 'That is %d %s bird!' %(1,'dead')\\ntext\",\n",
       "  \"'That is {0} {1} bird!'.format(1,'dead')\",\n",
       "  \"s = 'spamspamspam'\\nk = s.find('spam')\\nk\",\n",
       "  \"s = 'spamspamspam'\\nk = s.find('s')\\nk\",\n",
       "  \"s = 'xxxxSPAMxxxxSPAMxxxx'\\nwhere = s.find('SPAM')\\nwhere\",\n",
       "  \"s = 'xxxxxxxxSPAMxxxx'\\nwhere = s.find('SPAM')\\nwhere\",\n",
       "  \"s = s[:where] + 'www' + s[where+4:]\",\n",
       "  \"s = s[:where] + 'www' + s[where+4:]\\ns\",\n",
       "  \"s = 'xxxxSPAMxxxxSPAMxxxx'\\nwhere = s.find('SPAM')\\nwhere\",\n",
       "  \"s = s[:where] + 'www' + s[where+4:]\\ns\",\n",
       "  \"s = s[:where] + 'WWW' + s[where+4:]\\ns\",\n",
       "  \"s = s.replase('WWW','SPAM',1)\\ns\",\n",
       "  \"s = s.replace('WWW','SPAM',1)\\ns\",\n",
       "  \"s = 'hello'\\ns = list(s)\\ns\",\n",
       "  \"s[2] = 'L'\\ns[3] = 'L'\\ns\",\n",
       "  's = join(s)\\ns',\n",
       "  's = \"\".join(s)\\ns',\n",
       "  \"'SPAM'.join(['eggs, 'sausage', 'ham', 'toast'])\",\n",
       "  \"'SPAM'.join(['eggs', 'sausage', 'ham', 'toast'])\",\n",
       "  \"line = 'aaa bbb ccc'\\nc = line.split()\\nc\",\n",
       "  \"line = 'aaa bbb ccc'\\nc = line.split( )\\nc\",\n",
       "  'line = \\'aaa bbb ccc\\'\\nc = line.split(\"\")\\nc',\n",
       "  'line = \\'aaa bbb ccc\\'\\nc = line.split(\" \")\\nc',\n",
       "  \"line = 'aaa bbb ccc'\\nc = line.split()\\nc\",\n",
       "  \"line = 'aaa,bbb,ccc'\\nc = line.split(',')\\nc\",\n",
       "  \"line = 'aaabbbccc       '\\nprint(line)\",\n",
       "  \"line = 'aaabbbccc      \\\\n '\\nprint(line)\",\n",
       "  \"line = 'aaabbbccc      \\\\n '\\nline.rstrip()\",\n",
       "  \"line = 'aaabbbccc      \\\\n '\\nline.strip()\",\n",
       "  'l.upper()',\n",
       "  'line.upper()',\n",
       "  'line.endswith()',\n",
       "  'line.endswith(\" \")',\n",
       "  \"line = 'aaabbbccc      \\\\n'\\nline.strip()\",\n",
       "  'line.upper()',\n",
       "  'line.endswith(\"\\\\n\")',\n",
       "  \"line.startswith('aaa')\",\n",
       "  \"line.startswith('aaas')\",\n",
       "  \"line.startswith('aaa')\",\n",
       "  \"line.find('a') != 0\",\n",
       "  \"line.find('a') != -1\",\n",
       "  \"line.find('m') != -1\",\n",
       "  \"line.find('a') != -1\",\n",
       "  'a in line',\n",
       "  \"'a' in line\",\n",
       "  \"sub = '\\\\n'\\nline[-len(sub):] == sub\",\n",
       "  \"sub = '\\\\n'\\nlen(sub)\\nline[-len(sub):] == sub\",\n",
       "  \"sub = '\\\\n'\\nlen(sub)\\n# line[-len(sub):] == sub\",\n",
       "  \"sub = '\\\\n'\\nline[-len(sub):] == sub\",\n",
       "  \"import string\\ny = string.replace(line,'a','ZZZ')\\ny\",\n",
       "  \"import string\\ny = string.replace(line, 'a', 'ZZZ')\\ny\",\n",
       "  \"x = 1.23456789\\n\\n'%e | %f | %g' %(x,x,x)\",\n",
       "  \"'%-6.2f | %05.2f | %+06.1f' % (x,x,x)\",\n",
       "  \"'%s' %x,str(x)\",\n",
       "  \"'%s' %x,str(x),retp(x)\",\n",
       "  \"'%s' %x,str(x),repr(x)\",\n",
       "  '1/3.0',\n",
       "  \"'%f' %(1/3.0)\",\n",
       "  \"'%f' %(4,1/3.0)\",\n",
       "  \"'%.*f' %(4,1/3.0)\",\n",
       "  \"'%.*f' %(1,1/3.0)\",\n",
       "  \"'%(n)d %(x)s' % {'n':55,'x':'spam'}\",\n",
       "  'msg = \"\"\"\\nGreetings...\\nHello %(name)s!\\nYour age squared is %(age)s\\n\"\"\"\\nvalues = {\\'name\\':\\'Bob\\', \\'age\\': 55}\\nmsg % values',\n",
       "  'msg = \"\"\"\\nGreetings...\\nHello %(name)s!\\nYour age squared is %(age)s\\n\"\"\"\\nvalues = {\\'name\\':\\'Bob\\', \\'age\\': 55}\\nprint(msg % values)',\n",
       "  \"food  = 'spam'\\nage = 40\\nvars()\"],\n",
       " '_ii': 'msg = \"\"\"\\nGreetings...\\nHello %(name)s!\\nYour age squared is %(age)s\\n\"\"\"\\nvalues = {\\'name\\':\\'Bob\\', \\'age\\': 55}\\nmsg % values',\n",
       " '_iii': \"'%(n)d %(x)s' % {'n':55,'x':'spam'}\",\n",
       " '_oh': {1: 3,\n",
       "  2: 5,\n",
       "  3: [1, 2, 3, 4],\n",
       "  4: [55, 2, 3, 4],\n",
       "  5: [1, 2, 3, 4, 5],\n",
       "  6: [1, 2],\n",
       "  7: True,\n",
       "  8: True,\n",
       "  10: 3034,\n",
       "  11: ['qwerty'],\n",
       "  12: ['spam'],\n",
       "  13: 'Meaning of life',\n",
       "  14: ('meaning', 'of', 'life'),\n",
       "  15: 'asd\"',\n",
       "  16: \"asd'\",\n",
       "  19: 'a\\x00b\\x00c',\n",
       "  20: <_io.TextIOWrapper name='C:\\\\new\\\\text.dat' mode='w' encoding='UTF-8'>,\n",
       "  22: 'asbglsdhvjkbhvpehgb,dfb\\nfbj nkjbn kjfbnkjfdg\\ngbnkgjbfj dfg\\nsdbhdfbhjkfbsjhvwe    fjhsddbsdfb\\ndfbdfb\\nbjhb',\n",
       "  24: 6,\n",
       "  25: 'assqwe',\n",
       "  26: 'aaaaaaaaaaaa',\n",
       "  28: True,\n",
       "  29: 'olleh',\n",
       "  30: 'll',\n",
       "  31: 'pa',\n",
       "  32: 'pa',\n",
       "  33: 'maps',\n",
       "  34: 'maps',\n",
       "  35: \"'spam'\",\n",
       "  36: 13,\n",
       "  37: 7,\n",
       "  38: 'hellospam',\n",
       "  39: 'spamSPAM!',\n",
       "  41: 'spam WWW !',\n",
       "  42: 'spam WWW!',\n",
       "  43: 'spam XXX!',\n",
       "  44: 'spam XXX!',\n",
       "  45: 'spam XXX!',\n",
       "  46: 'spam XXX!',\n",
       "  47: 'spam WWW!',\n",
       "  48: 'spam TTT!',\n",
       "  50: 'That is 1 dead bird!',\n",
       "  51: 'That is 1 dead bird!',\n",
       "  52: 0,\n",
       "  53: 0,\n",
       "  54: 4,\n",
       "  55: 8,\n",
       "  57: 'xxxxxxxxwwwxxx',\n",
       "  58: 4,\n",
       "  59: 'xxxxwwwxxxxSPAMxxxx',\n",
       "  60: 'xxxxWWWxxxSPAMxxxx',\n",
       "  62: 'xxxxSPAMxxxSPAMxxxx',\n",
       "  63: ['h', 'e', 'L', 'L', 'o'],\n",
       "  64: ['h', 'e', 'L', 'L', 'o'],\n",
       "  66: 'heLLo',\n",
       "  68: 'eggsSPAMsausageSPAMhamSPAMtoast',\n",
       "  69: ['aaa', 'bbb', 'ccc'],\n",
       "  70: ['aaa', 'bbb', 'ccc'],\n",
       "  72: ['aaa', 'bbb', 'ccc'],\n",
       "  73: ['aaa', 'bbb', 'ccc'],\n",
       "  74: ['aaa', 'bbb', 'ccc'],\n",
       "  77: 'aaabbbccc',\n",
       "  78: 'aaabbbccc',\n",
       "  80: 'AAABBBCCC      \\n ',\n",
       "  82: True,\n",
       "  83: 'aaabbbccc',\n",
       "  84: 'AAABBBCCC      \\n',\n",
       "  85: True,\n",
       "  86: True,\n",
       "  87: False,\n",
       "  88: True,\n",
       "  89: False,\n",
       "  90: True,\n",
       "  91: False,\n",
       "  92: True,\n",
       "  94: True,\n",
       "  95: True,\n",
       "  96: True,\n",
       "  97: 1,\n",
       "  98: True,\n",
       "  101: '1.234568e+00 | 1.234568 | 1.23457',\n",
       "  102: '1.23   | 01.23 | +001.2',\n",
       "  103: ('1.23456789', '1.23456789'),\n",
       "  105: ('1.23456789', '1.23456789', '1.23456789'),\n",
       "  106: 0.3333333333333333,\n",
       "  107: '0.333333',\n",
       "  109: '0.3333',\n",
       "  110: '0.3',\n",
       "  111: '55 spam',\n",
       "  112: '\\nGreetings...\\nHello Bob!\\nYour age squared is 55\\n'},\n",
       " 'a': ['spam'],\n",
       " 'age': 40,\n",
       " 'b': '',\n",
       " 'c': ['aaa', 'bbb', 'ccc'],\n",
       " 'copy': <module 'copy' from '/usr/lib/python3.5/copy.py'>,\n",
       " 'exit': <IPython.core.autocall.ZMQExitAutocall at 0x7f12a1e71978>,\n",
       " 'food': 'spam',\n",
       " 'get_ipython': <bound method InteractiveShell.get_ipython of <ipykernel.zmqshell.ZMQInteractiveShell object at 0x7f12a91cd080>>,\n",
       " 'h': 1,\n",
       " 'i': 13,\n",
       " 'k': 0,\n",
       " 'l1': [55, 2, 3, 4, 5],\n",
       " 'l2': [1, 2, 3, 4, 5],\n",
       " 'l3': [1, 2],\n",
       " 'l4': [1, 2],\n",
       " 'line': 'aaabbbccc      \\n',\n",
       " 'm': [1, 2, 3],\n",
       " 'msg': '\\nGreetings...\\nHello %(name)s!\\nYour age squared is %(age)s\\n',\n",
       " 'myfile': <_io.TextIOWrapper name='C:\\\\new\\\\text.dat' mode='w' encoding='UTF-8'>,\n",
       " 'n': [1, 2, 3],\n",
       " 'path': 'C:\\\\new\\\\text.dat',\n",
       " 'quit': <IPython.core.autocall.ZMQExitAutocall at 0x7f12a1e71978>,\n",
       " 's': 'heLLo',\n",
       " 'string': <module 'string' from '/usr/lib/python3.5/string.py'>,\n",
       " 'sub': '\\n',\n",
       " 'sys': <module 'sys' (built-in)>,\n",
       " 'text': 'That is 1 dead bird!',\n",
       " 'title': ('meaning', 'of', 'life'),\n",
       " 'values': {'age': 55, 'name': 'Bob'},\n",
       " 'where': 4,\n",
       " 'x': 1.23456789}"
      ]
     },
     "execution_count": 114,
     "metadata": {},
     "output_type": "execute_result"
    }
   ],
   "source": [
    "food  = 'spam'\n",
    "age = 40\n",
    "vars()"
   ]
  },
  {
   "cell_type": "code",
   "execution_count": 115,
   "metadata": {},
   "outputs": [
    {
     "data": {
      "text/plain": [
       "'spam 40'"
      ]
     },
     "execution_count": 115,
     "metadata": {},
     "output_type": "execute_result"
    }
   ],
   "source": [
    "\"%(food)s %(age)d\" % vars()"
   ]
  },
  {
   "cell_type": "code",
   "execution_count": 116,
   "metadata": {},
   "outputs": [
    {
     "data": {
      "text/plain": [
       "'aaa, bbb and ccc'"
      ]
     },
     "execution_count": 116,
     "metadata": {},
     "output_type": "execute_result"
    }
   ],
   "source": [
    "template = '{a}, {b} and {c}'\n",
    "template.format(a = 'aaa', b = 'bbb', c = 'ccc')"
   ]
  },
  {
   "cell_type": "code",
   "execution_count": 118,
   "metadata": {},
   "outputs": [
    {
     "data": {
      "text/plain": [
       "'aaa,bbb, and ccc'"
      ]
     },
     "execution_count": 118,
     "metadata": {},
     "output_type": "execute_result"
    }
   ],
   "source": [
    "x = '{a},{b}, and {c}'.format(a = 'aaa', b = 'bbb', c = 'ccc')\n",
    "x"
   ]
  },
  {
   "cell_type": "code",
   "execution_count": 120,
   "metadata": {},
   "outputs": [
    {
     "data": {
      "text/plain": [
       "'first = S, third = a'"
      ]
     },
     "execution_count": 120,
     "metadata": {},
     "output_type": "execute_result"
    }
   ],
   "source": [
    "somelist = list('Spam')\n",
    "'first = {0[0]}, third = {0[2]}'.format(somelist)"
   ]
  },
  {
   "cell_type": "code",
   "execution_count": null,
   "metadata": {},
   "outputs": [],
   "source": []
  }
 ],
 "metadata": {
  "kernelspec": {
   "display_name": "Python 3",
   "language": "python",
   "name": "python3"
  },
  "language_info": {
   "codemirror_mode": {
    "name": "ipython",
    "version": 3
   },
   "file_extension": ".py",
   "mimetype": "text/x-python",
   "name": "python",
   "nbconvert_exporter": "python",
   "pygments_lexer": "ipython3",
   "version": "3.5.2"
  }
 },
 "nbformat": 4,
 "nbformat_minor": 2
}
